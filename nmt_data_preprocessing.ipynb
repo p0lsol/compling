{
  "nbformat": 4,
  "nbformat_minor": 0,
  "metadata": {
    "colab": {
      "provenance": [],
      "collapsed_sections": [
        "9C2JcKk4YR3t",
        "gv7N888pPWEZ",
        "Y1xMNAbMZuQk",
        "Zrouq467Phx5"
      ],
      "include_colab_link": true
    },
    "kernelspec": {
      "name": "python3",
      "display_name": "Python 3"
    },
    "language_info": {
      "name": "python"
    },
    "widgets": {
      "application/vnd.jupyter.widget-state+json": {
        "2b964673c8d44e03a14002b77b99ab55": {
          "model_module": "@jupyter-widgets/controls",
          "model_name": "HBoxModel",
          "model_module_version": "1.5.0",
          "state": {
            "_dom_classes": [],
            "_model_module": "@jupyter-widgets/controls",
            "_model_module_version": "1.5.0",
            "_model_name": "HBoxModel",
            "_view_count": null,
            "_view_module": "@jupyter-widgets/controls",
            "_view_module_version": "1.5.0",
            "_view_name": "HBoxView",
            "box_style": "",
            "children": [
              "IPY_MODEL_c01d8ed44a004fac9f34200f2380df99",
              "IPY_MODEL_3ee66f16321f4af1819fb6d8998c19d3",
              "IPY_MODEL_1d21b76e082e4836a7e8ce336aed04a1"
            ],
            "layout": "IPY_MODEL_7c713b5983b44cacabc68edf63fc8cd3"
          }
        },
        "c01d8ed44a004fac9f34200f2380df99": {
          "model_module": "@jupyter-widgets/controls",
          "model_name": "HTMLModel",
          "model_module_version": "1.5.0",
          "state": {
            "_dom_classes": [],
            "_model_module": "@jupyter-widgets/controls",
            "_model_module_version": "1.5.0",
            "_model_name": "HTMLModel",
            "_view_count": null,
            "_view_module": "@jupyter-widgets/controls",
            "_view_module_version": "1.5.0",
            "_view_name": "HTMLView",
            "description": "",
            "description_tooltip": null,
            "layout": "IPY_MODEL_f5fadc911a654e0db10102dcc331acd8",
            "placeholder": "​",
            "style": "IPY_MODEL_c01e69f23c754a7f9d33981259ce73e3",
            "value": "Downloading builder script: 100%"
          }
        },
        "3ee66f16321f4af1819fb6d8998c19d3": {
          "model_module": "@jupyter-widgets/controls",
          "model_name": "FloatProgressModel",
          "model_module_version": "1.5.0",
          "state": {
            "_dom_classes": [],
            "_model_module": "@jupyter-widgets/controls",
            "_model_module_version": "1.5.0",
            "_model_name": "FloatProgressModel",
            "_view_count": null,
            "_view_module": "@jupyter-widgets/controls",
            "_view_module_version": "1.5.0",
            "_view_name": "ProgressView",
            "bar_style": "success",
            "description": "",
            "description_tooltip": null,
            "layout": "IPY_MODEL_fe53f4e1d38f47ac9a2e351527bb7387",
            "max": 5937,
            "min": 0,
            "orientation": "horizontal",
            "style": "IPY_MODEL_54c8096836324472b699851a6e298c81",
            "value": 5937
          }
        },
        "1d21b76e082e4836a7e8ce336aed04a1": {
          "model_module": "@jupyter-widgets/controls",
          "model_name": "HTMLModel",
          "model_module_version": "1.5.0",
          "state": {
            "_dom_classes": [],
            "_model_module": "@jupyter-widgets/controls",
            "_model_module_version": "1.5.0",
            "_model_name": "HTMLModel",
            "_view_count": null,
            "_view_module": "@jupyter-widgets/controls",
            "_view_module_version": "1.5.0",
            "_view_name": "HTMLView",
            "description": "",
            "description_tooltip": null,
            "layout": "IPY_MODEL_463e83fbf1e64f2ca8e4c9da897f86af",
            "placeholder": "​",
            "style": "IPY_MODEL_98a5029e45074db8b69d524a97aae177",
            "value": " 5.94k/5.94k [00:00&lt;00:00, 123kB/s]"
          }
        },
        "7c713b5983b44cacabc68edf63fc8cd3": {
          "model_module": "@jupyter-widgets/base",
          "model_name": "LayoutModel",
          "model_module_version": "1.2.0",
          "state": {
            "_model_module": "@jupyter-widgets/base",
            "_model_module_version": "1.2.0",
            "_model_name": "LayoutModel",
            "_view_count": null,
            "_view_module": "@jupyter-widgets/base",
            "_view_module_version": "1.2.0",
            "_view_name": "LayoutView",
            "align_content": null,
            "align_items": null,
            "align_self": null,
            "border": null,
            "bottom": null,
            "display": null,
            "flex": null,
            "flex_flow": null,
            "grid_area": null,
            "grid_auto_columns": null,
            "grid_auto_flow": null,
            "grid_auto_rows": null,
            "grid_column": null,
            "grid_gap": null,
            "grid_row": null,
            "grid_template_areas": null,
            "grid_template_columns": null,
            "grid_template_rows": null,
            "height": null,
            "justify_content": null,
            "justify_items": null,
            "left": null,
            "margin": null,
            "max_height": null,
            "max_width": null,
            "min_height": null,
            "min_width": null,
            "object_fit": null,
            "object_position": null,
            "order": null,
            "overflow": null,
            "overflow_x": null,
            "overflow_y": null,
            "padding": null,
            "right": null,
            "top": null,
            "visibility": null,
            "width": null
          }
        },
        "f5fadc911a654e0db10102dcc331acd8": {
          "model_module": "@jupyter-widgets/base",
          "model_name": "LayoutModel",
          "model_module_version": "1.2.0",
          "state": {
            "_model_module": "@jupyter-widgets/base",
            "_model_module_version": "1.2.0",
            "_model_name": "LayoutModel",
            "_view_count": null,
            "_view_module": "@jupyter-widgets/base",
            "_view_module_version": "1.2.0",
            "_view_name": "LayoutView",
            "align_content": null,
            "align_items": null,
            "align_self": null,
            "border": null,
            "bottom": null,
            "display": null,
            "flex": null,
            "flex_flow": null,
            "grid_area": null,
            "grid_auto_columns": null,
            "grid_auto_flow": null,
            "grid_auto_rows": null,
            "grid_column": null,
            "grid_gap": null,
            "grid_row": null,
            "grid_template_areas": null,
            "grid_template_columns": null,
            "grid_template_rows": null,
            "height": null,
            "justify_content": null,
            "justify_items": null,
            "left": null,
            "margin": null,
            "max_height": null,
            "max_width": null,
            "min_height": null,
            "min_width": null,
            "object_fit": null,
            "object_position": null,
            "order": null,
            "overflow": null,
            "overflow_x": null,
            "overflow_y": null,
            "padding": null,
            "right": null,
            "top": null,
            "visibility": null,
            "width": null
          }
        },
        "c01e69f23c754a7f9d33981259ce73e3": {
          "model_module": "@jupyter-widgets/controls",
          "model_name": "DescriptionStyleModel",
          "model_module_version": "1.5.0",
          "state": {
            "_model_module": "@jupyter-widgets/controls",
            "_model_module_version": "1.5.0",
            "_model_name": "DescriptionStyleModel",
            "_view_count": null,
            "_view_module": "@jupyter-widgets/base",
            "_view_module_version": "1.2.0",
            "_view_name": "StyleView",
            "description_width": ""
          }
        },
        "fe53f4e1d38f47ac9a2e351527bb7387": {
          "model_module": "@jupyter-widgets/base",
          "model_name": "LayoutModel",
          "model_module_version": "1.2.0",
          "state": {
            "_model_module": "@jupyter-widgets/base",
            "_model_module_version": "1.2.0",
            "_model_name": "LayoutModel",
            "_view_count": null,
            "_view_module": "@jupyter-widgets/base",
            "_view_module_version": "1.2.0",
            "_view_name": "LayoutView",
            "align_content": null,
            "align_items": null,
            "align_self": null,
            "border": null,
            "bottom": null,
            "display": null,
            "flex": null,
            "flex_flow": null,
            "grid_area": null,
            "grid_auto_columns": null,
            "grid_auto_flow": null,
            "grid_auto_rows": null,
            "grid_column": null,
            "grid_gap": null,
            "grid_row": null,
            "grid_template_areas": null,
            "grid_template_columns": null,
            "grid_template_rows": null,
            "height": null,
            "justify_content": null,
            "justify_items": null,
            "left": null,
            "margin": null,
            "max_height": null,
            "max_width": null,
            "min_height": null,
            "min_width": null,
            "object_fit": null,
            "object_position": null,
            "order": null,
            "overflow": null,
            "overflow_x": null,
            "overflow_y": null,
            "padding": null,
            "right": null,
            "top": null,
            "visibility": null,
            "width": null
          }
        },
        "54c8096836324472b699851a6e298c81": {
          "model_module": "@jupyter-widgets/controls",
          "model_name": "ProgressStyleModel",
          "model_module_version": "1.5.0",
          "state": {
            "_model_module": "@jupyter-widgets/controls",
            "_model_module_version": "1.5.0",
            "_model_name": "ProgressStyleModel",
            "_view_count": null,
            "_view_module": "@jupyter-widgets/base",
            "_view_module_version": "1.2.0",
            "_view_name": "StyleView",
            "bar_color": null,
            "description_width": ""
          }
        },
        "463e83fbf1e64f2ca8e4c9da897f86af": {
          "model_module": "@jupyter-widgets/base",
          "model_name": "LayoutModel",
          "model_module_version": "1.2.0",
          "state": {
            "_model_module": "@jupyter-widgets/base",
            "_model_module_version": "1.2.0",
            "_model_name": "LayoutModel",
            "_view_count": null,
            "_view_module": "@jupyter-widgets/base",
            "_view_module_version": "1.2.0",
            "_view_name": "LayoutView",
            "align_content": null,
            "align_items": null,
            "align_self": null,
            "border": null,
            "bottom": null,
            "display": null,
            "flex": null,
            "flex_flow": null,
            "grid_area": null,
            "grid_auto_columns": null,
            "grid_auto_flow": null,
            "grid_auto_rows": null,
            "grid_column": null,
            "grid_gap": null,
            "grid_row": null,
            "grid_template_areas": null,
            "grid_template_columns": null,
            "grid_template_rows": null,
            "height": null,
            "justify_content": null,
            "justify_items": null,
            "left": null,
            "margin": null,
            "max_height": null,
            "max_width": null,
            "min_height": null,
            "min_width": null,
            "object_fit": null,
            "object_position": null,
            "order": null,
            "overflow": null,
            "overflow_x": null,
            "overflow_y": null,
            "padding": null,
            "right": null,
            "top": null,
            "visibility": null,
            "width": null
          }
        },
        "98a5029e45074db8b69d524a97aae177": {
          "model_module": "@jupyter-widgets/controls",
          "model_name": "DescriptionStyleModel",
          "model_module_version": "1.5.0",
          "state": {
            "_model_module": "@jupyter-widgets/controls",
            "_model_module_version": "1.5.0",
            "_model_name": "DescriptionStyleModel",
            "_view_count": null,
            "_view_module": "@jupyter-widgets/base",
            "_view_module_version": "1.2.0",
            "_view_name": "StyleView",
            "description_width": ""
          }
        },
        "208c38c3402b4d799883d03b3077a04d": {
          "model_module": "@jupyter-widgets/controls",
          "model_name": "HBoxModel",
          "model_module_version": "1.5.0",
          "state": {
            "_dom_classes": [],
            "_model_module": "@jupyter-widgets/controls",
            "_model_module_version": "1.5.0",
            "_model_name": "HBoxModel",
            "_view_count": null,
            "_view_module": "@jupyter-widgets/controls",
            "_view_module_version": "1.5.0",
            "_view_name": "HBoxView",
            "box_style": "",
            "children": [
              "IPY_MODEL_686b974516904fb998d68a35abccbd8d",
              "IPY_MODEL_0135ba0151f945189f26e31647963264",
              "IPY_MODEL_904ca9c4e9894815824bc027d1560d61"
            ],
            "layout": "IPY_MODEL_5a7bb98121df45619c24f5f2e374d100"
          }
        },
        "686b974516904fb998d68a35abccbd8d": {
          "model_module": "@jupyter-widgets/controls",
          "model_name": "HTMLModel",
          "model_module_version": "1.5.0",
          "state": {
            "_dom_classes": [],
            "_model_module": "@jupyter-widgets/controls",
            "_model_module_version": "1.5.0",
            "_model_name": "HTMLModel",
            "_view_count": null,
            "_view_module": "@jupyter-widgets/controls",
            "_view_module_version": "1.5.0",
            "_view_name": "HTMLView",
            "description": "",
            "description_tooltip": null,
            "layout": "IPY_MODEL_4a6d9edd934c4e42bf951b231ce8e061",
            "placeholder": "​",
            "style": "IPY_MODEL_248a10a54ad7496cac433b823e5c5e93",
            "value": "Downloading extra modules: "
          }
        },
        "0135ba0151f945189f26e31647963264": {
          "model_module": "@jupyter-widgets/controls",
          "model_name": "FloatProgressModel",
          "model_module_version": "1.5.0",
          "state": {
            "_dom_classes": [],
            "_model_module": "@jupyter-widgets/controls",
            "_model_module_version": "1.5.0",
            "_model_name": "FloatProgressModel",
            "_view_count": null,
            "_view_module": "@jupyter-widgets/controls",
            "_view_module_version": "1.5.0",
            "_view_name": "ProgressView",
            "bar_style": "success",
            "description": "",
            "description_tooltip": null,
            "layout": "IPY_MODEL_e47e1ff108bd40b486f3e80cb6bcfae7",
            "max": 1554,
            "min": 0,
            "orientation": "horizontal",
            "style": "IPY_MODEL_0f040e8538c94816bb327596d4d9592d",
            "value": 1554
          }
        },
        "904ca9c4e9894815824bc027d1560d61": {
          "model_module": "@jupyter-widgets/controls",
          "model_name": "HTMLModel",
          "model_module_version": "1.5.0",
          "state": {
            "_dom_classes": [],
            "_model_module": "@jupyter-widgets/controls",
            "_model_module_version": "1.5.0",
            "_model_name": "HTMLModel",
            "_view_count": null,
            "_view_module": "@jupyter-widgets/controls",
            "_view_module_version": "1.5.0",
            "_view_name": "HTMLView",
            "description": "",
            "description_tooltip": null,
            "layout": "IPY_MODEL_31e423f1d599483e963deb2a961ca077",
            "placeholder": "​",
            "style": "IPY_MODEL_18edb3b1908746149cd411eed3cf2d24",
            "value": " 4.07k/? [00:00&lt;00:00, 50.9kB/s]"
          }
        },
        "5a7bb98121df45619c24f5f2e374d100": {
          "model_module": "@jupyter-widgets/base",
          "model_name": "LayoutModel",
          "model_module_version": "1.2.0",
          "state": {
            "_model_module": "@jupyter-widgets/base",
            "_model_module_version": "1.2.0",
            "_model_name": "LayoutModel",
            "_view_count": null,
            "_view_module": "@jupyter-widgets/base",
            "_view_module_version": "1.2.0",
            "_view_name": "LayoutView",
            "align_content": null,
            "align_items": null,
            "align_self": null,
            "border": null,
            "bottom": null,
            "display": null,
            "flex": null,
            "flex_flow": null,
            "grid_area": null,
            "grid_auto_columns": null,
            "grid_auto_flow": null,
            "grid_auto_rows": null,
            "grid_column": null,
            "grid_gap": null,
            "grid_row": null,
            "grid_template_areas": null,
            "grid_template_columns": null,
            "grid_template_rows": null,
            "height": null,
            "justify_content": null,
            "justify_items": null,
            "left": null,
            "margin": null,
            "max_height": null,
            "max_width": null,
            "min_height": null,
            "min_width": null,
            "object_fit": null,
            "object_position": null,
            "order": null,
            "overflow": null,
            "overflow_x": null,
            "overflow_y": null,
            "padding": null,
            "right": null,
            "top": null,
            "visibility": null,
            "width": null
          }
        },
        "4a6d9edd934c4e42bf951b231ce8e061": {
          "model_module": "@jupyter-widgets/base",
          "model_name": "LayoutModel",
          "model_module_version": "1.2.0",
          "state": {
            "_model_module": "@jupyter-widgets/base",
            "_model_module_version": "1.2.0",
            "_model_name": "LayoutModel",
            "_view_count": null,
            "_view_module": "@jupyter-widgets/base",
            "_view_module_version": "1.2.0",
            "_view_name": "LayoutView",
            "align_content": null,
            "align_items": null,
            "align_self": null,
            "border": null,
            "bottom": null,
            "display": null,
            "flex": null,
            "flex_flow": null,
            "grid_area": null,
            "grid_auto_columns": null,
            "grid_auto_flow": null,
            "grid_auto_rows": null,
            "grid_column": null,
            "grid_gap": null,
            "grid_row": null,
            "grid_template_areas": null,
            "grid_template_columns": null,
            "grid_template_rows": null,
            "height": null,
            "justify_content": null,
            "justify_items": null,
            "left": null,
            "margin": null,
            "max_height": null,
            "max_width": null,
            "min_height": null,
            "min_width": null,
            "object_fit": null,
            "object_position": null,
            "order": null,
            "overflow": null,
            "overflow_x": null,
            "overflow_y": null,
            "padding": null,
            "right": null,
            "top": null,
            "visibility": null,
            "width": null
          }
        },
        "248a10a54ad7496cac433b823e5c5e93": {
          "model_module": "@jupyter-widgets/controls",
          "model_name": "DescriptionStyleModel",
          "model_module_version": "1.5.0",
          "state": {
            "_model_module": "@jupyter-widgets/controls",
            "_model_module_version": "1.5.0",
            "_model_name": "DescriptionStyleModel",
            "_view_count": null,
            "_view_module": "@jupyter-widgets/base",
            "_view_module_version": "1.2.0",
            "_view_name": "StyleView",
            "description_width": ""
          }
        },
        "e47e1ff108bd40b486f3e80cb6bcfae7": {
          "model_module": "@jupyter-widgets/base",
          "model_name": "LayoutModel",
          "model_module_version": "1.2.0",
          "state": {
            "_model_module": "@jupyter-widgets/base",
            "_model_module_version": "1.2.0",
            "_model_name": "LayoutModel",
            "_view_count": null,
            "_view_module": "@jupyter-widgets/base",
            "_view_module_version": "1.2.0",
            "_view_name": "LayoutView",
            "align_content": null,
            "align_items": null,
            "align_self": null,
            "border": null,
            "bottom": null,
            "display": null,
            "flex": null,
            "flex_flow": null,
            "grid_area": null,
            "grid_auto_columns": null,
            "grid_auto_flow": null,
            "grid_auto_rows": null,
            "grid_column": null,
            "grid_gap": null,
            "grid_row": null,
            "grid_template_areas": null,
            "grid_template_columns": null,
            "grid_template_rows": null,
            "height": null,
            "justify_content": null,
            "justify_items": null,
            "left": null,
            "margin": null,
            "max_height": null,
            "max_width": null,
            "min_height": null,
            "min_width": null,
            "object_fit": null,
            "object_position": null,
            "order": null,
            "overflow": null,
            "overflow_x": null,
            "overflow_y": null,
            "padding": null,
            "right": null,
            "top": null,
            "visibility": null,
            "width": null
          }
        },
        "0f040e8538c94816bb327596d4d9592d": {
          "model_module": "@jupyter-widgets/controls",
          "model_name": "ProgressStyleModel",
          "model_module_version": "1.5.0",
          "state": {
            "_model_module": "@jupyter-widgets/controls",
            "_model_module_version": "1.5.0",
            "_model_name": "ProgressStyleModel",
            "_view_count": null,
            "_view_module": "@jupyter-widgets/base",
            "_view_module_version": "1.2.0",
            "_view_name": "StyleView",
            "bar_color": null,
            "description_width": ""
          }
        },
        "31e423f1d599483e963deb2a961ca077": {
          "model_module": "@jupyter-widgets/base",
          "model_name": "LayoutModel",
          "model_module_version": "1.2.0",
          "state": {
            "_model_module": "@jupyter-widgets/base",
            "_model_module_version": "1.2.0",
            "_model_name": "LayoutModel",
            "_view_count": null,
            "_view_module": "@jupyter-widgets/base",
            "_view_module_version": "1.2.0",
            "_view_name": "LayoutView",
            "align_content": null,
            "align_items": null,
            "align_self": null,
            "border": null,
            "bottom": null,
            "display": null,
            "flex": null,
            "flex_flow": null,
            "grid_area": null,
            "grid_auto_columns": null,
            "grid_auto_flow": null,
            "grid_auto_rows": null,
            "grid_column": null,
            "grid_gap": null,
            "grid_row": null,
            "grid_template_areas": null,
            "grid_template_columns": null,
            "grid_template_rows": null,
            "height": null,
            "justify_content": null,
            "justify_items": null,
            "left": null,
            "margin": null,
            "max_height": null,
            "max_width": null,
            "min_height": null,
            "min_width": null,
            "object_fit": null,
            "object_position": null,
            "order": null,
            "overflow": null,
            "overflow_x": null,
            "overflow_y": null,
            "padding": null,
            "right": null,
            "top": null,
            "visibility": null,
            "width": null
          }
        },
        "18edb3b1908746149cd411eed3cf2d24": {
          "model_module": "@jupyter-widgets/controls",
          "model_name": "DescriptionStyleModel",
          "model_module_version": "1.5.0",
          "state": {
            "_model_module": "@jupyter-widgets/controls",
            "_model_module_version": "1.5.0",
            "_model_name": "DescriptionStyleModel",
            "_view_count": null,
            "_view_module": "@jupyter-widgets/base",
            "_view_module_version": "1.2.0",
            "_view_name": "StyleView",
            "description_width": ""
          }
        },
        "a1975df616844fa19bacbd4da3d87458": {
          "model_module": "@jupyter-widgets/controls",
          "model_name": "HBoxModel",
          "model_module_version": "1.5.0",
          "state": {
            "_dom_classes": [],
            "_model_module": "@jupyter-widgets/controls",
            "_model_module_version": "1.5.0",
            "_model_name": "HBoxModel",
            "_view_count": null,
            "_view_module": "@jupyter-widgets/controls",
            "_view_module_version": "1.5.0",
            "_view_name": "HBoxView",
            "box_style": "",
            "children": [
              "IPY_MODEL_36ac9cc476cd432fbef8455bf19c3377",
              "IPY_MODEL_6c150a4ca2d8469699c1e994d4e98d3a",
              "IPY_MODEL_ef6dc7255e63438fa5334b12321794e9"
            ],
            "layout": "IPY_MODEL_f745bb59c42f40408a700b0d8a0d3832"
          }
        },
        "36ac9cc476cd432fbef8455bf19c3377": {
          "model_module": "@jupyter-widgets/controls",
          "model_name": "HTMLModel",
          "model_module_version": "1.5.0",
          "state": {
            "_dom_classes": [],
            "_model_module": "@jupyter-widgets/controls",
            "_model_module_version": "1.5.0",
            "_model_name": "HTMLModel",
            "_view_count": null,
            "_view_module": "@jupyter-widgets/controls",
            "_view_module_version": "1.5.0",
            "_view_name": "HTMLView",
            "description": "",
            "description_tooltip": null,
            "layout": "IPY_MODEL_06528f51ba554f8482f9e44367e6ce33",
            "placeholder": "​",
            "style": "IPY_MODEL_00377fcada384118a4cb9d1860941d8b",
            "value": "Downloading extra modules: 100%"
          }
        },
        "6c150a4ca2d8469699c1e994d4e98d3a": {
          "model_module": "@jupyter-widgets/controls",
          "model_name": "FloatProgressModel",
          "model_module_version": "1.5.0",
          "state": {
            "_dom_classes": [],
            "_model_module": "@jupyter-widgets/controls",
            "_model_module_version": "1.5.0",
            "_model_name": "FloatProgressModel",
            "_view_count": null,
            "_view_module": "@jupyter-widgets/controls",
            "_view_module_version": "1.5.0",
            "_view_name": "ProgressView",
            "bar_style": "success",
            "description": "",
            "description_tooltip": null,
            "layout": "IPY_MODEL_b49e45f9ba80443085aac3871aad83b8",
            "max": 3344,
            "min": 0,
            "orientation": "horizontal",
            "style": "IPY_MODEL_705d6b1fce174d4da465fd676ada1472",
            "value": 3344
          }
        },
        "ef6dc7255e63438fa5334b12321794e9": {
          "model_module": "@jupyter-widgets/controls",
          "model_name": "HTMLModel",
          "model_module_version": "1.5.0",
          "state": {
            "_dom_classes": [],
            "_model_module": "@jupyter-widgets/controls",
            "_model_module_version": "1.5.0",
            "_model_name": "HTMLModel",
            "_view_count": null,
            "_view_module": "@jupyter-widgets/controls",
            "_view_module_version": "1.5.0",
            "_view_name": "HTMLView",
            "description": "",
            "description_tooltip": null,
            "layout": "IPY_MODEL_3d78977d355b4733a8da23402aac7864",
            "placeholder": "​",
            "style": "IPY_MODEL_ea59b63077434a2787e6f1abe6f0db98",
            "value": " 3.34k/3.34k [00:00&lt;00:00, 54.4kB/s]"
          }
        },
        "f745bb59c42f40408a700b0d8a0d3832": {
          "model_module": "@jupyter-widgets/base",
          "model_name": "LayoutModel",
          "model_module_version": "1.2.0",
          "state": {
            "_model_module": "@jupyter-widgets/base",
            "_model_module_version": "1.2.0",
            "_model_name": "LayoutModel",
            "_view_count": null,
            "_view_module": "@jupyter-widgets/base",
            "_view_module_version": "1.2.0",
            "_view_name": "LayoutView",
            "align_content": null,
            "align_items": null,
            "align_self": null,
            "border": null,
            "bottom": null,
            "display": null,
            "flex": null,
            "flex_flow": null,
            "grid_area": null,
            "grid_auto_columns": null,
            "grid_auto_flow": null,
            "grid_auto_rows": null,
            "grid_column": null,
            "grid_gap": null,
            "grid_row": null,
            "grid_template_areas": null,
            "grid_template_columns": null,
            "grid_template_rows": null,
            "height": null,
            "justify_content": null,
            "justify_items": null,
            "left": null,
            "margin": null,
            "max_height": null,
            "max_width": null,
            "min_height": null,
            "min_width": null,
            "object_fit": null,
            "object_position": null,
            "order": null,
            "overflow": null,
            "overflow_x": null,
            "overflow_y": null,
            "padding": null,
            "right": null,
            "top": null,
            "visibility": null,
            "width": null
          }
        },
        "06528f51ba554f8482f9e44367e6ce33": {
          "model_module": "@jupyter-widgets/base",
          "model_name": "LayoutModel",
          "model_module_version": "1.2.0",
          "state": {
            "_model_module": "@jupyter-widgets/base",
            "_model_module_version": "1.2.0",
            "_model_name": "LayoutModel",
            "_view_count": null,
            "_view_module": "@jupyter-widgets/base",
            "_view_module_version": "1.2.0",
            "_view_name": "LayoutView",
            "align_content": null,
            "align_items": null,
            "align_self": null,
            "border": null,
            "bottom": null,
            "display": null,
            "flex": null,
            "flex_flow": null,
            "grid_area": null,
            "grid_auto_columns": null,
            "grid_auto_flow": null,
            "grid_auto_rows": null,
            "grid_column": null,
            "grid_gap": null,
            "grid_row": null,
            "grid_template_areas": null,
            "grid_template_columns": null,
            "grid_template_rows": null,
            "height": null,
            "justify_content": null,
            "justify_items": null,
            "left": null,
            "margin": null,
            "max_height": null,
            "max_width": null,
            "min_height": null,
            "min_width": null,
            "object_fit": null,
            "object_position": null,
            "order": null,
            "overflow": null,
            "overflow_x": null,
            "overflow_y": null,
            "padding": null,
            "right": null,
            "top": null,
            "visibility": null,
            "width": null
          }
        },
        "00377fcada384118a4cb9d1860941d8b": {
          "model_module": "@jupyter-widgets/controls",
          "model_name": "DescriptionStyleModel",
          "model_module_version": "1.5.0",
          "state": {
            "_model_module": "@jupyter-widgets/controls",
            "_model_module_version": "1.5.0",
            "_model_name": "DescriptionStyleModel",
            "_view_count": null,
            "_view_module": "@jupyter-widgets/base",
            "_view_module_version": "1.2.0",
            "_view_name": "StyleView",
            "description_width": ""
          }
        },
        "b49e45f9ba80443085aac3871aad83b8": {
          "model_module": "@jupyter-widgets/base",
          "model_name": "LayoutModel",
          "model_module_version": "1.2.0",
          "state": {
            "_model_module": "@jupyter-widgets/base",
            "_model_module_version": "1.2.0",
            "_model_name": "LayoutModel",
            "_view_count": null,
            "_view_module": "@jupyter-widgets/base",
            "_view_module_version": "1.2.0",
            "_view_name": "LayoutView",
            "align_content": null,
            "align_items": null,
            "align_self": null,
            "border": null,
            "bottom": null,
            "display": null,
            "flex": null,
            "flex_flow": null,
            "grid_area": null,
            "grid_auto_columns": null,
            "grid_auto_flow": null,
            "grid_auto_rows": null,
            "grid_column": null,
            "grid_gap": null,
            "grid_row": null,
            "grid_template_areas": null,
            "grid_template_columns": null,
            "grid_template_rows": null,
            "height": null,
            "justify_content": null,
            "justify_items": null,
            "left": null,
            "margin": null,
            "max_height": null,
            "max_width": null,
            "min_height": null,
            "min_width": null,
            "object_fit": null,
            "object_position": null,
            "order": null,
            "overflow": null,
            "overflow_x": null,
            "overflow_y": null,
            "padding": null,
            "right": null,
            "top": null,
            "visibility": null,
            "width": null
          }
        },
        "705d6b1fce174d4da465fd676ada1472": {
          "model_module": "@jupyter-widgets/controls",
          "model_name": "ProgressStyleModel",
          "model_module_version": "1.5.0",
          "state": {
            "_model_module": "@jupyter-widgets/controls",
            "_model_module_version": "1.5.0",
            "_model_name": "ProgressStyleModel",
            "_view_count": null,
            "_view_module": "@jupyter-widgets/base",
            "_view_module_version": "1.2.0",
            "_view_name": "StyleView",
            "bar_color": null,
            "description_width": ""
          }
        },
        "3d78977d355b4733a8da23402aac7864": {
          "model_module": "@jupyter-widgets/base",
          "model_name": "LayoutModel",
          "model_module_version": "1.2.0",
          "state": {
            "_model_module": "@jupyter-widgets/base",
            "_model_module_version": "1.2.0",
            "_model_name": "LayoutModel",
            "_view_count": null,
            "_view_module": "@jupyter-widgets/base",
            "_view_module_version": "1.2.0",
            "_view_name": "LayoutView",
            "align_content": null,
            "align_items": null,
            "align_self": null,
            "border": null,
            "bottom": null,
            "display": null,
            "flex": null,
            "flex_flow": null,
            "grid_area": null,
            "grid_auto_columns": null,
            "grid_auto_flow": null,
            "grid_auto_rows": null,
            "grid_column": null,
            "grid_gap": null,
            "grid_row": null,
            "grid_template_areas": null,
            "grid_template_columns": null,
            "grid_template_rows": null,
            "height": null,
            "justify_content": null,
            "justify_items": null,
            "left": null,
            "margin": null,
            "max_height": null,
            "max_width": null,
            "min_height": null,
            "min_width": null,
            "object_fit": null,
            "object_position": null,
            "order": null,
            "overflow": null,
            "overflow_x": null,
            "overflow_y": null,
            "padding": null,
            "right": null,
            "top": null,
            "visibility": null,
            "width": null
          }
        },
        "ea59b63077434a2787e6f1abe6f0db98": {
          "model_module": "@jupyter-widgets/controls",
          "model_name": "DescriptionStyleModel",
          "model_module_version": "1.5.0",
          "state": {
            "_model_module": "@jupyter-widgets/controls",
            "_model_module_version": "1.5.0",
            "_model_name": "DescriptionStyleModel",
            "_view_count": null,
            "_view_module": "@jupyter-widgets/base",
            "_view_module_version": "1.2.0",
            "_view_name": "StyleView",
            "description_width": ""
          }
        }
      }
    }
  },
  "cells": [
    {
      "cell_type": "markdown",
      "metadata": {
        "id": "view-in-github",
        "colab_type": "text"
      },
      "source": [
        "<a href=\"https://colab.research.google.com/github/p0lsol/compling/blob/main/nmt_data_preprocessing.ipynb\" target=\"_parent\"><img src=\"https://colab.research.google.com/assets/colab-badge.svg\" alt=\"Open In Colab\"/></a>"
      ]
    },
    {
      "cell_type": "markdown",
      "source": [
        "`Курс \"Компьютерная лингвистика\" | НИУ ВШЭ Санкт-Петербург 2024 (c) В.И. Фирсанова`"
      ],
      "metadata": {
        "id": "mQvakFO6NW9e"
      }
    },
    {
      "cell_type": "markdown",
      "source": [
        "# Нейросетевой машинный перевод: подготовка данных к машинному обучению"
      ],
      "metadata": {
        "id": "mG7BGK5QYMUe"
      }
    },
    {
      "cell_type": "markdown",
      "source": [
        "План занятия:\n",
        "\n",
        "I. Знакомимся с процессом подготовки данных к машинному обучению\n",
        "\n",
        "II. Вместе проходим туториал TensorFlow и осваиваем модель кодер-декодер на примере рекуррентной нейросети"
      ],
      "metadata": {
        "id": "Zqijo01Tagqd"
      }
    },
    {
      "cell_type": "markdown",
      "source": [
        "## Загрузка данных"
      ],
      "metadata": {
        "id": "9C2JcKk4YR3t"
      }
    },
    {
      "cell_type": "code",
      "source": [
        "!wget https://raw.githubusercontent.com/vifirsanova/compling/main/data/toy_data.en\n",
        "!wget https://raw.githubusercontent.com/vifirsanova/compling/main/data/toy_data.ru"
      ],
      "metadata": {
        "colab": {
          "base_uri": "https://localhost:8080/"
        },
        "id": "HTzdykF64NA2",
        "outputId": "989c2643-e1c8-4cf2-b4fe-c7c5dc34d6e1"
      },
      "execution_count": null,
      "outputs": [
        {
          "output_type": "stream",
          "name": "stdout",
          "text": [
            "--2024-02-09 08:53:33--  https://raw.githubusercontent.com/vifirsanova/compling/main/data/toy_data.en\n",
            "Resolving raw.githubusercontent.com (raw.githubusercontent.com)... 185.199.109.133, 185.199.108.133, 185.199.111.133, ...\n",
            "Connecting to raw.githubusercontent.com (raw.githubusercontent.com)|185.199.109.133|:443... connected.\n",
            "HTTP request sent, awaiting response... 200 OK\n",
            "Length: 1590 (1.6K) [text/plain]\n",
            "Saving to: ‘toy_data.en’\n",
            "\n",
            "toy_data.en         100%[===================>]   1.55K  --.-KB/s    in 0s      \n",
            "\n",
            "2024-02-09 08:53:33 (21.3 MB/s) - ‘toy_data.en’ saved [1590/1590]\n",
            "\n",
            "--2024-02-09 08:53:33--  https://raw.githubusercontent.com/vifirsanova/compling/main/data/toy_data.ru\n",
            "Resolving raw.githubusercontent.com (raw.githubusercontent.com)... 185.199.108.133, 185.199.109.133, 185.199.110.133, ...\n",
            "Connecting to raw.githubusercontent.com (raw.githubusercontent.com)|185.199.108.133|:443... connected.\n",
            "HTTP request sent, awaiting response... 200 OK\n",
            "Length: 2501 (2.4K) [text/plain]\n",
            "Saving to: ‘toy_data.ru’\n",
            "\n",
            "toy_data.ru         100%[===================>]   2.44K  --.-KB/s    in 0s      \n",
            "\n",
            "2024-02-09 08:53:33 (46.0 MB/s) - ‘toy_data.ru’ saved [2501/2501]\n",
            "\n"
          ]
        }
      ]
    },
    {
      "cell_type": "markdown",
      "source": [
        "Импорт библиотек"
      ],
      "metadata": {
        "id": "RIbJJZcTYUQQ"
      }
    },
    {
      "cell_type": "code",
      "source": [
        "import numpy as np\n",
        "\n",
        "from sklearn.model_selection import train_test_split\n",
        "\n",
        "import tensorflow as tf"
      ],
      "metadata": {
        "id": "tLHJ1Sv14flo"
      },
      "execution_count": null,
      "outputs": []
    },
    {
      "cell_type": "markdown",
      "source": [
        "Запись данных в переменные"
      ],
      "metadata": {
        "id": "JXDVWi6yYX07"
      }
    },
    {
      "cell_type": "code",
      "source": [
        "def load_data(path):\n",
        "  with open(path, 'r', encoding='utf-8') as f:\n",
        "    return np.array(f.read().split('\\n'))"
      ],
      "metadata": {
        "id": "BtA7pYP-4U0Y"
      },
      "execution_count": null,
      "outputs": []
    },
    {
      "cell_type": "code",
      "source": [
        "x_data, y_data = load_data('toy_data.ru'), load_data('toy_data.en')\n",
        "\n",
        "print(\"Данные языка X:\\n\", x_data[5])\n",
        "print(\"Данные языка Y:\\n\", y_data[5])"
      ],
      "metadata": {
        "colab": {
          "base_uri": "https://localhost:8080/"
        },
        "id": "1Xy2YT7O3zen",
        "outputId": "bf101725-a577-41d0-b064-fa4d3606347c"
      },
      "execution_count": null,
      "outputs": [
        {
          "output_type": "stream",
          "name": "stdout",
          "text": [
            "Данные языка X:\n",
            "     Я люблю тебя.\n",
            "Данные языка Y:\n",
            "     I love you.\n"
          ]
        }
      ]
    },
    {
      "cell_type": "markdown",
      "source": [
        "Создаем выборки"
      ],
      "metadata": {
        "id": "E_5j8QYBYkMM"
      }
    },
    {
      "cell_type": "code",
      "source": [
        "x_train, x_test, y_train, y_test = train_test_split(x_data, y_data)\n",
        "\n",
        "print(\"Тестовые данные языка X:\\n\", x_test)\n",
        "print(\"Тестовые данные языка Y:\\n\", y_test)"
      ],
      "metadata": {
        "colab": {
          "base_uri": "https://localhost:8080/"
        },
        "id": "TCATNl2o5kRm",
        "outputId": "c362f3f3-5736-4fea-e7c4-dc2fa46ec6ff"
      },
      "execution_count": null,
      "outputs": [
        {
          "output_type": "stream",
          "name": "stdout",
          "text": [
            "Тестовые данные языка X:\n",
            " ['    Что ты хочешь сказать?' '    Какие у тебя планы на будущее?'\n",
            " '    Что ты хочешь сделать в будущем?' '    Что ты думаешь о этом месте?'\n",
            " '    Привет!' '    Какая твоя профессия?'\n",
            " '    Какие фильмы ты любишь смотреть?'\n",
            " '    Как ты относишься к этому предложению?'\n",
            " '    Что ты собираешься делать сегодня?' '    Я не понимаю.'\n",
            " '    Пожалуйста.' '    Какая твоя любимая песня?'\n",
            " '    Какой прекрасный день!']\n",
            "Тестовые данные языка Y:\n",
            " ['    What do you want to say?' '    What are your plans for the future?'\n",
            " '    What do you want to do in the future?'\n",
            " '    What do you think about this place?' '    Hello!'\n",
            " '    What is your profession?' '    What movies do you like to watch?'\n",
            " '    What is your attitude toward this proposal?'\n",
            " '    What are you going to do today?' \"    I don't understand.\"\n",
            " \"    You're welcome.\" '    What is your favorite song?'\n",
            " '    What a beautiful day!']\n"
          ]
        }
      ]
    },
    {
      "cell_type": "markdown",
      "source": [
        "## Кодирование"
      ],
      "metadata": {
        "id": "gv7N888pPWEZ"
      }
    },
    {
      "cell_type": "markdown",
      "source": [
        "Создаем объекты Dataset\n",
        "\n",
        "**Тензор** - объект векторного пространства V конечной размерности n\n",
        "\n",
        "*shape* - размерность тензора\n",
        "\n",
        "*dtype* - какие данные хранятся в объекте\n",
        "\n",
        "**Батч** - некий отрезок данных; на батчи обычно деляться данные для машинного обучения"
      ],
      "metadata": {
        "id": "2d02UYJsYoUF"
      }
    },
    {
      "cell_type": "code",
      "source": [
        "train_dataset = tf.data.Dataset.from_tensor_slices((x_train, y_train)).batch(64).shuffle(len(x_data))\n",
        "test_dataset = tf.data.Dataset.from_tensor_slices((x_test, y_test)).batch(64).shuffle(len(x_data))\n",
        "\n",
        "for x_strings, y_strings in train_dataset.take(1):\n",
        "  print(\"Образец tf-датасета, данные языка X:\\n\", x_strings[1:3])\n",
        "  print(\"\\nОбразец tf-датасета, данные языка Y:\\n\", y_strings[1:3])"
      ],
      "metadata": {
        "colab": {
          "base_uri": "https://localhost:8080/"
        },
        "id": "Gl2QRYyy42mk",
        "outputId": "f279a4df-6aaa-4afc-cd9a-8d210cf71b48"
      },
      "execution_count": null,
      "outputs": [
        {
          "output_type": "stream",
          "name": "stdout",
          "text": [
            "Образец tf-датасета, данные языка X:\n",
            " tf.Tensor(\n",
            "[b'    \\xd0\\xa7\\xd1\\x82\\xd0\\xbe \\xd1\\x82\\xd1\\x8b \\xd1\\x85\\xd0\\xbe\\xd1\\x82\\xd0\\xb5\\xd0\\xbb \\xd0\\xb1\\xd1\\x8b \\xd0\\xb7\\xd0\\xb0\\xd0\\xba\\xd0\\xb0\\xd0\\xb7\\xd0\\xb0\\xd1\\x82\\xd1\\x8c \\xd0\\xb2 \\xd1\\x8d\\xd1\\x82\\xd0\\xbe\\xd0\\xbc \\xd1\\x80\\xd0\\xb5\\xd1\\x81\\xd1\\x82\\xd0\\xbe\\xd1\\x80\\xd0\\xb0\\xd0\\xbd\\xd0\\xb5?'\n",
            " b'    \\xd0\\xa1\\xd0\\xbf\\xd0\\xb0\\xd1\\x81\\xd0\\xb8\\xd0\\xb1\\xd0\\xbe!'], shape=(2,), dtype=string)\n",
            "\n",
            "Образец tf-датасета, данные языка Y:\n",
            " tf.Tensor([b'    What would you like to order in this restaurant?' b'    Thank you!'], shape=(2,), dtype=string)\n"
          ]
        }
      ]
    },
    {
      "cell_type": "markdown",
      "source": [
        "Лирическое отступление: чем матрица отличается от тензора?\n",
        "\n",
        "Тензор - широкое понятие, в зависимости от его размерности выделяют:\n",
        "\n",
        "- скалярные тензоры (хранит ровно одно значение); `shape ()`\n",
        "\n",
        "- вектора (одномерный список значений любой длины);  `shape (n, )`\n",
        "\n",
        "- матрицы (двумерный массив, как таблица); `shape (n, m)`\n",
        "\n",
        "- тензоры (любая глубина); например `shape (n, m, k)` будет выглядеть как параллелепипед или как 3 состыкованные вместе матрицы (таблицы)"
      ],
      "metadata": {
        "id": "sHuoo3rXEzv7"
      }
    },
    {
      "cell_type": "code",
      "source": [
        "print(\"Скалярный тензор с числом 42:\\n\", tf.constant(42))\n",
        "print(\"\\n Вектор длины n=2 с числами 42 и 24:\\n\", tf.constant([42, 24]))\n",
        "print(\"\\n Матрица длины содержит m=3 вектора с числами 42 и 24 длины n=2:\\n\", tf.constant([[42, 24],\n",
        "                                                                                      [42, 24],\n",
        "                                                                                      [42, 24]]))\n",
        "print(\"\\n Трёхмерный тензор содержит k=2 матрицы; \\\n",
        "матрица содержит m=3 вектора с числами 42 и 24 длины n=2:\\n\", tf.constant([[[42, 24], [42, 24], [42, 24]],\n",
        "                                                                           [[42, 24], [42, 24], [42, 24]]]))\n",
        "# NB! 32 бита - объем занимаемой памяти, типы данных можно менять"
      ],
      "metadata": {
        "colab": {
          "base_uri": "https://localhost:8080/"
        },
        "id": "T4OwQMCyE69k",
        "outputId": "cb619edc-a05b-4798-c4e3-81a1eb808aa0"
      },
      "execution_count": null,
      "outputs": [
        {
          "output_type": "stream",
          "name": "stdout",
          "text": [
            "Скалярный тензор с числом 42:\n",
            " tf.Tensor(42, shape=(), dtype=int32)\n",
            "\n",
            " Вектор длины n=2 с числами 42 и 24:\n",
            " tf.Tensor([42 24], shape=(2,), dtype=int32)\n",
            "\n",
            " Матрица длины содержит m=3 вектора с числами 42 и 24 длины n=2:\n",
            " tf.Tensor(\n",
            "[[42 24]\n",
            " [42 24]\n",
            " [42 24]], shape=(3, 2), dtype=int32)\n",
            "\n",
            " Трёхмерный тензор содержит k=2 матрицы; матрица содержит m=3 вектора с числами 42 и 24 длины n=2:\n",
            " tf.Tensor(\n",
            "[[[42 24]\n",
            "  [42 24]\n",
            "  [42 24]]\n",
            "\n",
            " [[42 24]\n",
            "  [42 24]\n",
            "  [42 24]]], shape=(2, 3, 2), dtype=int32)\n"
          ]
        }
      ]
    },
    {
      "cell_type": "markdown",
      "source": [
        "Теперь немного посчитаем:"
      ],
      "metadata": {
        "id": "nDcYOuovJR47"
      }
    },
    {
      "cell_type": "code",
      "source": [
        "a = tf.constant([[1, 2],\n",
        "                 [3, 4]])\n",
        "\n",
        "b = tf.constant([[1, 1],\n",
        "                 [1, 2]])\n",
        "\n",
        "print(\"Сложение:\\n\", tf.add(a, b), \"\\n\")\n",
        "print(\"Умножение (поэлементное):\\n\", tf.multiply(a, b), \"\\n\")\n",
        "print(\"Умножение матриц:\\n\", tf.matmul(a, b), \"\\n\")\n",
        "\n",
        "# NB! К тензорам можно применять и другие функции, например, argmax"
      ],
      "metadata": {
        "colab": {
          "base_uri": "https://localhost:8080/"
        },
        "id": "bS1m7sCaJRSp",
        "outputId": "6217472a-710b-4dc5-eb0c-bce172bf6582"
      },
      "execution_count": null,
      "outputs": [
        {
          "output_type": "stream",
          "name": "stdout",
          "text": [
            "Сложение:\n",
            " tf.Tensor(\n",
            "[[2 3]\n",
            " [4 6]], shape=(2, 2), dtype=int32) \n",
            "\n",
            "Умножение (поэлементное):\n",
            " tf.Tensor(\n",
            "[[1 2]\n",
            " [3 8]], shape=(2, 2), dtype=int32) \n",
            "\n",
            "Умножение матриц:\n",
            " tf.Tensor(\n",
            "[[ 3  5]\n",
            " [ 7 11]], shape=(2, 2), dtype=int32) \n",
            "\n"
          ]
        }
      ]
    },
    {
      "cell_type": "markdown",
      "source": [
        "Обычно используют прямоугольные тензоры, т.е. количество элементов в каждом компоненте должно совпадать, но бывают исключения, например, `RaggedTensor`."
      ],
      "metadata": {
        "id": "DM5B-03SLXHU"
      }
    },
    {
      "cell_type": "code",
      "source": [
        "print('Без ragged мы получим ошибку!')\n",
        "\n",
        "tf.ragged.constant([\n",
        "                    ['this', 'is', 'a', 'sample', 'sentence'],\n",
        "                    ['this', 'sentence', 'is', 'shorter']\n",
        "                    ])"
      ],
      "metadata": {
        "colab": {
          "base_uri": "https://localhost:8080/"
        },
        "id": "VD3OY1sOLYWL",
        "outputId": "ed15aa48-de26-419a-adaa-b7d77028decf"
      },
      "execution_count": null,
      "outputs": [
        {
          "output_type": "stream",
          "name": "stdout",
          "text": [
            "Без ragged мы получим ошибку!\n"
          ]
        },
        {
          "output_type": "execute_result",
          "data": {
            "text/plain": [
              "<tf.RaggedTensor [[b'this', b'is', b'a', b'sample', b'sentence'],\n",
              " [b'this', b'sentence', b'is', b'shorter']]>"
            ]
          },
          "metadata": {},
          "execution_count": 35
        }
      ]
    },
    {
      "cell_type": "markdown",
      "source": [
        "Тензоры бывают плотные `dense` и `разреженные`.\n",
        "\n",
        "С разреженными векторами матрицами мы работаем, например, при использовании метода `one-hot encoding`."
      ],
      "metadata": {
        "id": "Lh5OX2R2Md-f"
      }
    },
    {
      "cell_type": "code",
      "source": [
        "print(\"Закодируем число 128 с помощью one-hot encoding\\n\")\n",
        "sparse_tensor = tf.sparse.SparseTensor(indices=[[0, 1], [1, 2], [2, 8]],\n",
        "                                       values=[1, 1, 1],\n",
        "                                       dense_shape=[3, 10])\n",
        "\n",
        "print(\"Метод sparse помогает нам сэкономить память компьютера\", sparse_tensor, \"\\n\")\n",
        "print(\"Вот, как выглядит наша матрица на самом деле:\\n\", tf.sparse.to_dense(sparse_tensor))"
      ],
      "metadata": {
        "colab": {
          "base_uri": "https://localhost:8080/"
        },
        "id": "jI3sZluuMauY",
        "outputId": "5be9e60a-9f1f-4cde-a5df-2a68e779f23a"
      },
      "execution_count": null,
      "outputs": [
        {
          "output_type": "stream",
          "name": "stdout",
          "text": [
            "Закодируем число 128 с помощью one-hot encoding\n",
            "\n",
            "Метод sparse помогает нам сэкономить память компьютера SparseTensor(indices=tf.Tensor(\n",
            "[[0 1]\n",
            " [1 2]\n",
            " [2 8]], shape=(3, 2), dtype=int64), values=tf.Tensor([1 1 1], shape=(3,), dtype=int32), dense_shape=tf.Tensor([ 3 10], shape=(2,), dtype=int64)) \n",
            "\n",
            "Вот, как выглядит наша матрица на самом деле:\n",
            " tf.Tensor(\n",
            "[[0 1 0 0 0 0 0 0 0 0]\n",
            " [0 0 1 0 0 0 0 0 0 0]\n",
            " [0 0 0 0 0 0 0 0 1 0]], shape=(3, 10), dtype=int32)\n"
          ]
        }
      ]
    },
    {
      "cell_type": "markdown",
      "source": [
        "## Предобработка данных"
      ],
      "metadata": {
        "id": "Y1xMNAbMZuQk"
      }
    },
    {
      "cell_type": "markdown",
      "source": [
        "Чистка и токенизация"
      ],
      "metadata": {
        "id": "aE_VKZt8PdOa"
      }
    },
    {
      "cell_type": "code",
      "source": [
        "def tokenize(text):\n",
        "  # к нижнему регистру\n",
        "  text_lower = tf.strings.lower(text, encoding='utf-8')\n",
        "  # оставим знаки препинания и все буквы латиницы и кириллицы\n",
        "  text_clean = tf.strings.regex_replace(text_lower, '[^ a-zа-я.?!,]', '')\n",
        "  # добавим пробел перед знаками препинания (для токенизации знаков)\n",
        "  text_punct = tf.strings.regex_replace(text_clean, '[.?!,]', r' \\0 ')\n",
        "  # избавимся от лишних пробелов\n",
        "  text = tf.strings.strip(text_punct)\n",
        "  # добавим метки начала (sos: start of the sentence) и конца (eos: end of the sentence) предложений\n",
        "  return tf.strings.join(['<SOS>', text, '<EOS>'], separator=' ')"
      ],
      "metadata": {
        "id": "eZOMmu1s8udM"
      },
      "execution_count": null,
      "outputs": []
    },
    {
      "cell_type": "code",
      "source": [
        "print(\"Образец токенизации:\\n\", tokenize(tf.constant(\"Как твои дела?\")).numpy().decode())"
      ],
      "metadata": {
        "colab": {
          "base_uri": "https://localhost:8080/"
        },
        "id": "n49wA3yM_ulB",
        "outputId": "a3f49da6-2af3-46b1-cb3f-af73e944f686"
      },
      "execution_count": null,
      "outputs": [
        {
          "output_type": "stream",
          "name": "stdout",
          "text": [
            "Образец токенизации:\n",
            " <SOS> как твои дела ? <EOS>\n"
          ]
        }
      ]
    },
    {
      "cell_type": "markdown",
      "source": [
        "Кодирование (векторизация): готовим данные для \"скармливания\" их модели"
      ],
      "metadata": {
        "id": "knE3JvQeZ0Er"
      }
    },
    {
      "cell_type": "code",
      "source": [
        "x_text_processor = tf.keras.layers.TextVectorization(standardize=tokenize, ragged=True)\n",
        "\n",
        "x_text_processor.adapt(train_dataset.map(lambda x, target: x))\n",
        "print(\"Образец обучающего словаря языка X:\\n\", x_text_processor.get_vocabulary()[:10])\n",
        "print(\"\\nОбразец закодированного текста X:\\n\\tТекст:\", x_strings[1].numpy().decode(), \"\\n\\tКодирование:\", x_text_processor(x_strings[1]))\n",
        "\n",
        "y_text_processor = tf.keras.layers.TextVectorization(standardize=tokenize, ragged=True)\n",
        "\n",
        "y_text_processor.adapt(train_dataset.map(lambda x, target: target))\n",
        "print(\"\\nОбразец обучающего словаря языка Y:\\n\", y_text_processor.get_vocabulary()[:10])\n",
        "print(\"\\nОбразец закодированного текста X:\\n\\tТекст:\", y_strings[1].numpy().decode(), \"\\n\\tКодирование:\", y_text_processor(y_strings[1]))"
      ],
      "metadata": {
        "colab": {
          "base_uri": "https://localhost:8080/"
        },
        "id": "QhNqOjwS_8GS",
        "outputId": "317d1191-5dfe-4854-81a8-180abe17d51a"
      },
      "execution_count": null,
      "outputs": [
        {
          "output_type": "stream",
          "name": "stdout",
          "text": [
            "Образец обучающего словаря языка X:\n",
            " ['', '[UNK]', '<SOS>', '<EOS>', '?', 'ты', 'что', 'как', 'тебя', 'у']\n",
            "\n",
            "Образец закодированного текста X:\n",
            "\tТекст:     Что ты хотел бы заказать в этом ресторане? \n",
            "\tКодирование: tf.Tensor([ 2  6  5 40 98 75 11 34 52  4  3], shape=(11,), dtype=int64)\n",
            "\n",
            "Образец обучающего словаря языка Y:\n",
            " ['', '[UNK]', '<SOS>', '<EOS>', '?', 'you', 'what', 'do', 'how', 'your']\n",
            "\n",
            "Образец закодированного текста X:\n",
            "\tТекст:     What would you like to order in this restaurant? \n",
            "\tКодирование: tf.Tensor([ 2  6 34  5 24 11 55 14 21 51  4  3], shape=(12,), dtype=int64)\n"
          ]
        }
      ]
    },
    {
      "cell_type": "code",
      "source": [
        "def encode(x, y):\n",
        "  # обработка текстов (текст -> словарь -> замена слов их ID'шками из словаря)\n",
        "  x_encoded = x_text_processor(x).to_tensor()\n",
        "  y_encoded = y_text_processor(y)\n",
        "  # (x_encoded, y_encoded) -> ((x_encoded, y_input), y_label) для keras.Model.fit\n",
        "  # Keras принимает (inputs, labels)\n",
        "  # inputs = (x_encoded, y_input)\n",
        "  # labels = y_label\n",
        "  # y_label += следующий за y_input токен\n",
        "  y_input = y_encoded[:,:-1].to_tensor()\n",
        "  y_label = y_encoded[:,1:].to_tensor()\n",
        "  return (x_encoded, y_input), y_label"
      ],
      "metadata": {
        "id": "espfq8SLCPkZ"
      },
      "execution_count": null,
      "outputs": []
    },
    {
      "cell_type": "code",
      "source": [
        "train = train_dataset.map(encode, tf.data.AUTOTUNE)\n",
        "test = test_dataset.map(encode, tf.data.AUTOTUNE)\n",
        "\n",
        "for (x_encoded_token, y_input_token), y_label_token in train.take(1):\n",
        "  print(\"Закодированный текст x:\")\n",
        "  print(x_encoded_token[1, :10].numpy())\n",
        "  print(\"\\nЗакодированный текст y:\")\n",
        "  print(y_input_token[1, :10].numpy())\n",
        "  print(\"\\nТот же текст y мы сдвинули на 1 токен вперед:\")\n",
        "  print(y_label_token[1, :10].numpy())"
      ],
      "metadata": {
        "colab": {
          "base_uri": "https://localhost:8080/"
        },
        "id": "m-CwqUCECmoP",
        "outputId": "c8f13242-43e1-4a29-a049-fd1d4b2ac658"
      },
      "execution_count": null,
      "outputs": [
        {
          "output_type": "stream",
          "name": "stdout",
          "text": [
            "Закодированный текст x:\n",
            "[ 2  6  5 40 98 75 11 34 52  4]\n",
            "\n",
            "Закодированный текст y:\n",
            "[ 2  6 34  5 24 11 55 14 21 51]\n",
            "\n",
            "Тот же текст y мы сдвинули на 1 токен вперед:\n",
            "[ 6 34  5 24 11 55 14 21 51  4]\n"
          ]
        }
      ]
    },
    {
      "cell_type": "markdown",
      "source": [
        "## Домашнее задание"
      ],
      "metadata": {
        "id": "Zrouq467Phx5"
      }
    },
    {
      "cell_type": "markdown",
      "source": [
        "Задание:\n",
        "\n",
        "1. **По желанию**\n",
        "\n",
        "* Ознакомиться с [туториалом TensorFlow](https://www.tensorflow.org/text/tutorials/nmt_with_attention) по машинному переводу\n",
        "\n",
        "* Адаптировать препроцессинг на основе этого воркбука и обучить модель из туториала TensorFlow на данных `toy_data.ru` и `toy_data.en`\n",
        "\n",
        "2. **Обязательно**\n",
        "\n",
        "* Ниже: образец подсчета BLEU-Score для системы машинного перевода. Вспомните, как считается BLEU и опишите своими словами форумулу расчета и интерпретацию результатов. Ответьте на следующие вопросы:\n",
        "\n",
        "  * Что значит кандидат и референс?\n",
        "  * Для чего подойдет BLEU-Score: подсчета отдельных переводов или результатов работы системы на целом корпусе?\n",
        "  * Какие \"скоры\" считаются высокими, а какие - низкими?\n",
        "  \n",
        "* Проанализируйте результаты в ячейках ниже. Порассуждайте:\n",
        "\n",
        "  * На ваш взгляд, какие слова, контексты вызвали трудности у автоматической системы?\n",
        "  * Руководствуясь знаниями о том, как работают нейросети, предположите, что вызвало ошибки."
      ],
      "metadata": {
        "id": "QqGQiqnKLifx"
      }
    },
    {
      "cell_type": "code",
      "source": [
        "!pip install evaluate"
      ],
      "metadata": {
        "id": "JiB4EwOsPRE8",
        "outputId": "69501751-580d-4f92-b3a4-00f619458270",
        "colab": {
          "base_uri": "https://localhost:8080/"
        }
      },
      "execution_count": 2,
      "outputs": [
        {
          "output_type": "stream",
          "name": "stdout",
          "text": [
            "Requirement already satisfied: evaluate in /usr/local/lib/python3.10/dist-packages (0.4.1)\n",
            "Requirement already satisfied: datasets>=2.0.0 in /usr/local/lib/python3.10/dist-packages (from evaluate) (2.17.1)\n",
            "Requirement already satisfied: numpy>=1.17 in /usr/local/lib/python3.10/dist-packages (from evaluate) (1.25.2)\n",
            "Requirement already satisfied: dill in /usr/local/lib/python3.10/dist-packages (from evaluate) (0.3.8)\n",
            "Requirement already satisfied: pandas in /usr/local/lib/python3.10/dist-packages (from evaluate) (1.5.3)\n",
            "Requirement already satisfied: requests>=2.19.0 in /usr/local/lib/python3.10/dist-packages (from evaluate) (2.31.0)\n",
            "Requirement already satisfied: tqdm>=4.62.1 in /usr/local/lib/python3.10/dist-packages (from evaluate) (4.66.2)\n",
            "Requirement already satisfied: xxhash in /usr/local/lib/python3.10/dist-packages (from evaluate) (3.4.1)\n",
            "Requirement already satisfied: multiprocess in /usr/local/lib/python3.10/dist-packages (from evaluate) (0.70.16)\n",
            "Requirement already satisfied: fsspec[http]>=2021.05.0 in /usr/local/lib/python3.10/dist-packages (from evaluate) (2023.6.0)\n",
            "Requirement already satisfied: huggingface-hub>=0.7.0 in /usr/local/lib/python3.10/dist-packages (from evaluate) (0.20.3)\n",
            "Requirement already satisfied: packaging in /usr/local/lib/python3.10/dist-packages (from evaluate) (23.2)\n",
            "Requirement already satisfied: responses<0.19 in /usr/local/lib/python3.10/dist-packages (from evaluate) (0.18.0)\n",
            "Requirement already satisfied: filelock in /usr/local/lib/python3.10/dist-packages (from datasets>=2.0.0->evaluate) (3.13.1)\n",
            "Requirement already satisfied: pyarrow>=12.0.0 in /usr/local/lib/python3.10/dist-packages (from datasets>=2.0.0->evaluate) (14.0.2)\n",
            "Requirement already satisfied: pyarrow-hotfix in /usr/local/lib/python3.10/dist-packages (from datasets>=2.0.0->evaluate) (0.6)\n",
            "Requirement already satisfied: aiohttp in /usr/local/lib/python3.10/dist-packages (from datasets>=2.0.0->evaluate) (3.9.3)\n",
            "Requirement already satisfied: pyyaml>=5.1 in /usr/local/lib/python3.10/dist-packages (from datasets>=2.0.0->evaluate) (6.0.1)\n",
            "Requirement already satisfied: typing-extensions>=3.7.4.3 in /usr/local/lib/python3.10/dist-packages (from huggingface-hub>=0.7.0->evaluate) (4.9.0)\n",
            "Requirement already satisfied: charset-normalizer<4,>=2 in /usr/local/lib/python3.10/dist-packages (from requests>=2.19.0->evaluate) (3.3.2)\n",
            "Requirement already satisfied: idna<4,>=2.5 in /usr/local/lib/python3.10/dist-packages (from requests>=2.19.0->evaluate) (3.6)\n",
            "Requirement already satisfied: urllib3<3,>=1.21.1 in /usr/local/lib/python3.10/dist-packages (from requests>=2.19.0->evaluate) (2.0.7)\n",
            "Requirement already satisfied: certifi>=2017.4.17 in /usr/local/lib/python3.10/dist-packages (from requests>=2.19.0->evaluate) (2024.2.2)\n",
            "Requirement already satisfied: python-dateutil>=2.8.1 in /usr/local/lib/python3.10/dist-packages (from pandas->evaluate) (2.8.2)\n",
            "Requirement already satisfied: pytz>=2020.1 in /usr/local/lib/python3.10/dist-packages (from pandas->evaluate) (2023.4)\n",
            "Requirement already satisfied: aiosignal>=1.1.2 in /usr/local/lib/python3.10/dist-packages (from aiohttp->datasets>=2.0.0->evaluate) (1.3.1)\n",
            "Requirement already satisfied: attrs>=17.3.0 in /usr/local/lib/python3.10/dist-packages (from aiohttp->datasets>=2.0.0->evaluate) (23.2.0)\n",
            "Requirement already satisfied: frozenlist>=1.1.1 in /usr/local/lib/python3.10/dist-packages (from aiohttp->datasets>=2.0.0->evaluate) (1.4.1)\n",
            "Requirement already satisfied: multidict<7.0,>=4.5 in /usr/local/lib/python3.10/dist-packages (from aiohttp->datasets>=2.0.0->evaluate) (6.0.5)\n",
            "Requirement already satisfied: yarl<2.0,>=1.0 in /usr/local/lib/python3.10/dist-packages (from aiohttp->datasets>=2.0.0->evaluate) (1.9.4)\n",
            "Requirement already satisfied: async-timeout<5.0,>=4.0 in /usr/local/lib/python3.10/dist-packages (from aiohttp->datasets>=2.0.0->evaluate) (4.0.3)\n",
            "Requirement already satisfied: six>=1.5 in /usr/local/lib/python3.10/dist-packages (from python-dateutil>=2.8.1->pandas->evaluate) (1.16.0)\n"
          ]
        }
      ]
    },
    {
      "cell_type": "code",
      "source": [
        "import evaluate\n",
        "\n",
        "predictions = [\n",
        "    \"In addition to the usual hockey, there is an underwater and even ice version of this game.\", #  Помимо обычного хоккея, существует подводная и даже подлёдная разновидности этой игры.\n",
        "    \"You reap what you sow.\", # Что посеешь - то и пожнешь.\n",
        "    \"Also, justice is how we distribute the small resources.\" # Также, справедливость - это и то, как мы распределяем малые ресурсы.\n",
        "    ]\n",
        "\n",
        "references = [\n",
        "    [\"In addition to conventional hockey, there is an underwater and even under-ice variety of this game.\"], #  Помимо обычного хоккея, существует подводная и даже подлёдная разновидности этой игры.\n",
        "    [\"What goes around comes around.\"], # Что посеешь - то и пожнешь.\n",
        "    [\"Fairness also has to do with how we distribute scarce resources.\"], # Также, справедливость - это и то, как мы распределяем малые ресурсы.\n",
        "    ]\n",
        "\n",
        "bleu = evaluate.load(\"bleu\")\n",
        "results = bleu.compute(predictions=predictions, references=references)\n",
        "\n",
        "print(results)"
      ],
      "metadata": {
        "colab": {
          "base_uri": "https://localhost:8080/",
          "height": 152,
          "referenced_widgets": [
            "2b964673c8d44e03a14002b77b99ab55",
            "c01d8ed44a004fac9f34200f2380df99",
            "3ee66f16321f4af1819fb6d8998c19d3",
            "1d21b76e082e4836a7e8ce336aed04a1",
            "7c713b5983b44cacabc68edf63fc8cd3",
            "f5fadc911a654e0db10102dcc331acd8",
            "c01e69f23c754a7f9d33981259ce73e3",
            "fe53f4e1d38f47ac9a2e351527bb7387",
            "54c8096836324472b699851a6e298c81",
            "463e83fbf1e64f2ca8e4c9da897f86af",
            "98a5029e45074db8b69d524a97aae177",
            "208c38c3402b4d799883d03b3077a04d",
            "686b974516904fb998d68a35abccbd8d",
            "0135ba0151f945189f26e31647963264",
            "904ca9c4e9894815824bc027d1560d61",
            "5a7bb98121df45619c24f5f2e374d100",
            "4a6d9edd934c4e42bf951b231ce8e061",
            "248a10a54ad7496cac433b823e5c5e93",
            "e47e1ff108bd40b486f3e80cb6bcfae7",
            "0f040e8538c94816bb327596d4d9592d",
            "31e423f1d599483e963deb2a961ca077",
            "18edb3b1908746149cd411eed3cf2d24",
            "a1975df616844fa19bacbd4da3d87458",
            "36ac9cc476cd432fbef8455bf19c3377",
            "6c150a4ca2d8469699c1e994d4e98d3a",
            "ef6dc7255e63438fa5334b12321794e9",
            "f745bb59c42f40408a700b0d8a0d3832",
            "06528f51ba554f8482f9e44367e6ce33",
            "00377fcada384118a4cb9d1860941d8b",
            "b49e45f9ba80443085aac3871aad83b8",
            "705d6b1fce174d4da465fd676ada1472",
            "3d78977d355b4733a8da23402aac7864",
            "ea59b63077434a2787e6f1abe6f0db98"
          ]
        },
        "id": "e7uEHzktPJbB",
        "outputId": "bf1ff06d-b50c-462d-dd63-2486df34beaf"
      },
      "execution_count": 3,
      "outputs": [
        {
          "output_type": "display_data",
          "data": {
            "text/plain": [
              "Downloading builder script:   0%|          | 0.00/5.94k [00:00<?, ?B/s]"
            ],
            "application/vnd.jupyter.widget-view+json": {
              "version_major": 2,
              "version_minor": 0,
              "model_id": "2b964673c8d44e03a14002b77b99ab55"
            }
          },
          "metadata": {}
        },
        {
          "output_type": "display_data",
          "data": {
            "text/plain": [
              "Downloading extra modules:   0%|          | 0.00/1.55k [00:00<?, ?B/s]"
            ],
            "application/vnd.jupyter.widget-view+json": {
              "version_major": 2,
              "version_minor": 0,
              "model_id": "208c38c3402b4d799883d03b3077a04d"
            }
          },
          "metadata": {}
        },
        {
          "output_type": "display_data",
          "data": {
            "text/plain": [
              "Downloading extra modules:   0%|          | 0.00/3.34k [00:00<?, ?B/s]"
            ],
            "application/vnd.jupyter.widget-view+json": {
              "version_major": 2,
              "version_minor": 0,
              "model_id": "a1975df616844fa19bacbd4da3d87458"
            }
          },
          "metadata": {}
        },
        {
          "output_type": "stream",
          "name": "stdout",
          "text": [
            "{'bleu': 0.374360558192794, 'precisions': [0.5833333333333334, 0.45454545454545453, 0.3333333333333333, 0.2222222222222222], 'brevity_penalty': 1.0, 'length_ratio': 1.0, 'translation_length': 36, 'reference_length': 36}\n"
          ]
        }
      ]
    },
    {
      "cell_type": "markdown",
      "source": [
        "BLEU-score оценивает кач-во машинного перевода, сравнивая результаты машинного перевода с рефрентным переводом, написанным переводчиком-человеком.\n",
        "подсчитывается кол-во н-грамм, которые встретились в обоих переводах, и умножается на brevity penalty (кол-во слов в машинном переводе / кол-во слов в референтном переводе). получаемое число и есть BLEU-score, и чем оно ближе к единице, чем лучше перевод.\n",
        "\n",
        "кандидат - вариант перевода, который создала машина. референс - перевод, с которым сравнивается машинный (написан человеком)\n",
        "\n",
        "скоры до 0.5 - низкие, от 0.5 - высокие\n",
        "\n",
        "анализ результатов:\n",
        "1) у модели вызвало трудности \"underwater and even under-ice\", можно предположить, что это лексика специфичная для хоккея, которая просто не попала в данные для обучения модели.\n",
        "2) некоторые трудности вызвали слова \"обычный\", \"справедливость\", я думаю, модель выбрала наиболее частотные употребления слов с этим значением (usual>conventional)? справедливость будет переводиться как justice в большем количестве контекстов\n",
        "3) в третьем предложении отсутствует \"также\" стоит в другой позиции, потому что такой порядок ближе к порядку слов в оригинальном предложении + мне кажется \"малые ресурсы\" в принципе странная конструкция. так что машина перевела третье предложение просто более дословно\n",
        "поговорка: машина опять предоставляет более дословный/очевидный перевод.\n",
        "\n",
        "в общем, проблемы с хокейной лексикой можно объяснить недостатком данных, но я думаю такой низкий скор - в первую очередь вина референтного перевода пословицы -- на нем, наверное, машина потеряла много баллов, хотя в общем-то перевела неплохо."
      ],
      "metadata": {
        "id": "DKG-5FrhwMm7"
      }
    }
  ]
}